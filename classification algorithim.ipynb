{
 "cells": [
  {
   "cell_type": "code",
   "execution_count": 1,
   "id": "1ef3d1b3-6618-4848-ace1-d9ca640c6de4",
   "metadata": {},
   "outputs": [
    {
     "name": "stderr",
     "output_type": "stream",
     "text": [
      "── \u001b[1mAttaching packages\u001b[22m ─────────────────────────────────────── tidyverse 1.3.1 ──\n",
      "\n",
      "\u001b[32m✔\u001b[39m \u001b[34mggplot2\u001b[39m 3.3.6     \u001b[32m✔\u001b[39m \u001b[34mpurrr  \u001b[39m 0.3.4\n",
      "\u001b[32m✔\u001b[39m \u001b[34mtibble \u001b[39m 3.1.7     \u001b[32m✔\u001b[39m \u001b[34mdplyr  \u001b[39m 1.0.9\n",
      "\u001b[32m✔\u001b[39m \u001b[34mtidyr  \u001b[39m 1.2.0     \u001b[32m✔\u001b[39m \u001b[34mstringr\u001b[39m 1.4.0\n",
      "\u001b[32m✔\u001b[39m \u001b[34mreadr  \u001b[39m 2.1.2     \u001b[32m✔\u001b[39m \u001b[34mforcats\u001b[39m 0.5.1\n",
      "\n",
      "── \u001b[1mConflicts\u001b[22m ────────────────────────────────────────── tidyverse_conflicts() ──\n",
      "\u001b[31m✖\u001b[39m \u001b[34mdplyr\u001b[39m::\u001b[32mfilter()\u001b[39m masks \u001b[34mstats\u001b[39m::filter()\n",
      "\u001b[31m✖\u001b[39m \u001b[34mdplyr\u001b[39m::\u001b[32mlag()\u001b[39m    masks \u001b[34mstats\u001b[39m::lag()\n",
      "\n",
      "── \u001b[1mAttaching packages\u001b[22m ────────────────────────────────────── tidymodels 1.0.0 ──\n",
      "\n",
      "\u001b[32m✔\u001b[39m \u001b[34mbroom       \u001b[39m 1.0.0     \u001b[32m✔\u001b[39m \u001b[34mrsample     \u001b[39m 1.0.0\n",
      "\u001b[32m✔\u001b[39m \u001b[34mdials       \u001b[39m 1.0.0     \u001b[32m✔\u001b[39m \u001b[34mtune        \u001b[39m 1.0.0\n",
      "\u001b[32m✔\u001b[39m \u001b[34minfer       \u001b[39m 1.0.2     \u001b[32m✔\u001b[39m \u001b[34mworkflows   \u001b[39m 1.0.0\n",
      "\u001b[32m✔\u001b[39m \u001b[34mmodeldata   \u001b[39m 1.0.0     \u001b[32m✔\u001b[39m \u001b[34mworkflowsets\u001b[39m 1.0.0\n",
      "\u001b[32m✔\u001b[39m \u001b[34mparsnip     \u001b[39m 1.0.0     \u001b[32m✔\u001b[39m \u001b[34myardstick   \u001b[39m 1.0.0\n",
      "\u001b[32m✔\u001b[39m \u001b[34mrecipes     \u001b[39m 1.0.1     \n",
      "\n",
      "── \u001b[1mConflicts\u001b[22m ───────────────────────────────────────── tidymodels_conflicts() ──\n",
      "\u001b[31m✖\u001b[39m \u001b[34mscales\u001b[39m::\u001b[32mdiscard()\u001b[39m masks \u001b[34mpurrr\u001b[39m::discard()\n",
      "\u001b[31m✖\u001b[39m \u001b[34mdplyr\u001b[39m::\u001b[32mfilter()\u001b[39m   masks \u001b[34mstats\u001b[39m::filter()\n",
      "\u001b[31m✖\u001b[39m \u001b[34mrecipes\u001b[39m::\u001b[32mfixed()\u001b[39m  masks \u001b[34mstringr\u001b[39m::fixed()\n",
      "\u001b[31m✖\u001b[39m \u001b[34mdplyr\u001b[39m::\u001b[32mlag()\u001b[39m      masks \u001b[34mstats\u001b[39m::lag()\n",
      "\u001b[31m✖\u001b[39m \u001b[34myardstick\u001b[39m::\u001b[32mspec()\u001b[39m masks \u001b[34mreadr\u001b[39m::spec()\n",
      "\u001b[31m✖\u001b[39m \u001b[34mrecipes\u001b[39m::\u001b[32mstep()\u001b[39m   masks \u001b[34mstats\u001b[39m::step()\n",
      "\u001b[34m•\u001b[39m Dig deeper into tidy modeling with R at \u001b[32mhttps://www.tmwr.org\u001b[39m\n",
      "\n",
      "Warning message in file(filename, \"r\", encoding = encoding):\n",
      "“cannot open file 'tests.R': No such file or directory”\n"
     ]
    },
    {
     "ename": "ERROR",
     "evalue": "Error in file(filename, \"r\", encoding = encoding): cannot open the connection\n",
     "output_type": "error",
     "traceback": [
      "Error in file(filename, \"r\", encoding = encoding): cannot open the connection\nTraceback:\n",
      "1. source(\"tests.R\")",
      "2. file(filename, \"r\", encoding = encoding)"
     ]
    }
   ],
   "source": [
    "library(tidyverse)\n",
    "library(repr)\n",
    "library(tidymodels)\n",
    "options(repr.matrix.max.rows = 6)\n",
    "source('tests.R')\n",
    "source(\"cleanup.R\")"
   ]
  },
  {
   "cell_type": "code",
   "execution_count": 2,
   "id": "62b3375a-2c61-48fe-9a8c-c08b904ad9a7",
   "metadata": {},
   "outputs": [
    {
     "name": "stderr",
     "output_type": "stream",
     "text": [
      "\u001b[1mRows: \u001b[22m\u001b[34m303\u001b[39m \u001b[1mColumns: \u001b[22m\u001b[34m14\u001b[39m\n",
      "\u001b[36m──\u001b[39m \u001b[1mColumn specification\u001b[22m \u001b[36m────────────────────────────────────────────────────────\u001b[39m\n",
      "\u001b[1mDelimiter:\u001b[22m \",\"\n",
      "\u001b[31mchr\u001b[39m  (2): X12, X13\n",
      "\u001b[32mdbl\u001b[39m (12): X1, X2, X3, X4, X5, X6, X7, X8, X9, X10, X11, X14\n",
      "\n",
      "\u001b[36mℹ\u001b[39m Use `spec()` to retrieve the full column specification for this data.\n",
      "\u001b[36mℹ\u001b[39m Specify the column types or set `show_col_types = FALSE` to quiet this message.\n",
      "Warning message in mask$eval_all_mutate(quo):\n",
      "“NAs introduced by coercion”\n"
     ]
    },
    {
     "data": {
      "text/html": [
       "<table class=\"dataframe\">\n",
       "<caption>A tibble: 303 × 6</caption>\n",
       "<thead>\n",
       "\t<tr><th scope=col>age</th><th scope=col>restbps</th><th scope=col>chol</th><th scope=col>max_heart_rate</th><th scope=col>fluoro</th><th scope=col>predicted</th></tr>\n",
       "\t<tr><th scope=col>&lt;dbl&gt;</th><th scope=col>&lt;int&gt;</th><th scope=col>&lt;int&gt;</th><th scope=col>&lt;int&gt;</th><th scope=col>&lt;int&gt;</th><th scope=col>&lt;fct&gt;</th></tr>\n",
       "</thead>\n",
       "<tbody>\n",
       "\t<tr><td>63</td><td>145</td><td>233</td><td>150</td><td>0</td><td>no_hd</td></tr>\n",
       "\t<tr><td>67</td><td>160</td><td>286</td><td>108</td><td>3</td><td>hd   </td></tr>\n",
       "\t<tr><td>67</td><td>120</td><td>229</td><td>129</td><td>2</td><td>hd   </td></tr>\n",
       "\t<tr><td>⋮</td><td>⋮</td><td>⋮</td><td>⋮</td><td>⋮</td><td>⋮</td></tr>\n",
       "\t<tr><td>57</td><td>130</td><td>131</td><td>115</td><td> 1</td><td>hd   </td></tr>\n",
       "\t<tr><td>57</td><td>130</td><td>236</td><td>174</td><td> 1</td><td>hd   </td></tr>\n",
       "\t<tr><td>38</td><td>138</td><td>175</td><td>173</td><td>NA</td><td>no_hd</td></tr>\n",
       "</tbody>\n",
       "</table>\n"
      ],
      "text/latex": [
       "A tibble: 303 × 6\n",
       "\\begin{tabular}{llllll}\n",
       " age & restbps & chol & max\\_heart\\_rate & fluoro & predicted\\\\\n",
       " <dbl> & <int> & <int> & <int> & <int> & <fct>\\\\\n",
       "\\hline\n",
       "\t 63 & 145 & 233 & 150 & 0 & no\\_hd\\\\\n",
       "\t 67 & 160 & 286 & 108 & 3 & hd   \\\\\n",
       "\t 67 & 120 & 229 & 129 & 2 & hd   \\\\\n",
       "\t ⋮ & ⋮ & ⋮ & ⋮ & ⋮ & ⋮\\\\\n",
       "\t 57 & 130 & 131 & 115 &  1 & hd   \\\\\n",
       "\t 57 & 130 & 236 & 174 &  1 & hd   \\\\\n",
       "\t 38 & 138 & 175 & 173 & NA & no\\_hd\\\\\n",
       "\\end{tabular}\n"
      ],
      "text/markdown": [
       "\n",
       "A tibble: 303 × 6\n",
       "\n",
       "| age &lt;dbl&gt; | restbps &lt;int&gt; | chol &lt;int&gt; | max_heart_rate &lt;int&gt; | fluoro &lt;int&gt; | predicted &lt;fct&gt; |\n",
       "|---|---|---|---|---|---|\n",
       "| 63 | 145 | 233 | 150 | 0 | no_hd |\n",
       "| 67 | 160 | 286 | 108 | 3 | hd    |\n",
       "| 67 | 120 | 229 | 129 | 2 | hd    |\n",
       "| ⋮ | ⋮ | ⋮ | ⋮ | ⋮ | ⋮ |\n",
       "| 57 | 130 | 131 | 115 |  1 | hd    |\n",
       "| 57 | 130 | 236 | 174 |  1 | hd    |\n",
       "| 38 | 138 | 175 | 173 | NA | no_hd |\n",
       "\n"
      ],
      "text/plain": [
       "    age restbps chol max_heart_rate fluoro predicted\n",
       "1   63  145     233  150            0      no_hd    \n",
       "2   67  160     286  108            3      hd       \n",
       "3   67  120     229  129            2      hd       \n",
       "⋮   ⋮   ⋮       ⋮    ⋮              ⋮      ⋮        \n",
       "301 57  130     131  115             1     hd       \n",
       "302 57  130     236  174             1     hd       \n",
       "303 38  138     175  173            NA     no_hd    "
      ]
     },
     "metadata": {},
     "output_type": "display_data"
    }
   ],
   "source": [
    "set.seed(50)\n",
    "heart_data <- read_csv(\"https://archive.ics.uci.edu/ml/machine-learning-databases/heart-disease/processed.cleveland.data\", col_names = FALSE) |>\n",
    "    #rename the columns\n",
    "    rename(\"age\"= X1, \"sex\" = X2, \"chest_pain\" = X3, \"trestbps\" = X4, \"chol\" = X5, \"fasting_bs\" = X6, \"restecg\" = X7, \"max_heart_rate\" = X8, \"exang\" = X9, \"old_peak\" = X10, \"peak_slope\" = X11, \"ca\" = X12, \"thal\" = X13, \"predicted\" = X14) |>\n",
    "    #change the \"sex\" column observations from binary to \"male\" and \"female\"\n",
    "    mutate(sex = recode(sex, \"1\" = \"male\", \"0\" = \"female\")) |>\n",
    "    #change the \"chest_pain\" column from numeric to their given chest pain types.\n",
    "    mutate(chest_pain = recode(chest_pain, \"1\" = \"typical_angina\", \"2\" = \"atypical_angina\", \"3\" = \"non_anginal_pain\", \"4\" = \"asymptomatic\")) |>\n",
    "    #change restbps from dbl to in\n",
    "    mutate(restbps = as.integer(trestbps)) |>\n",
    "    #change cholesterol from dbl to int\n",
    "    mutate(chol = as.integer(chol)) |>\n",
    "    #change fasting blood sugar from binary to their given meanings\n",
    "    mutate(fasting_bs = recode(fasting_bs, \"1\" = \"over_120\", \"0\" = \"under_120\")) |>\n",
    "    #change the restecg from numeric to its given value meanings\n",
    "    mutate(restecg = recode(restecg, \"0\" = \"normal\", \"1\" = \"abnormal\", \"2\" = \"hypertrophy\")) |>\n",
    "    #change max_heart_rate from dbl to int\n",
    "    mutate(max_heart_rate = as.integer(max_heart_rate)) |>\n",
    "    #ensures is a dbl\n",
    "    mutate(old_peak = as.numeric(old_peak)) |>\n",
    "    #ensures the fluoroscopy data is an integer rather than a numeric value\n",
    "    mutate(fluoro = as.integer(ca)) |>\n",
    "    #changes values from binary to their given value meanings\n",
    "    mutate(exang = recode(exang, \"0\" = \"no\", \"1\" = \"yes\")) |>\n",
    "    #ensures the slope values are numeric\n",
    "    mutate(peak_slope = as.integer(peak_slope)) |>\n",
    "    #ensures the defect status has its given name rather than numbers associated with them\n",
    "    mutate(thal = recode(thal, \"3.0\" = \"normal\", \"6.0\" = \"fixed_defect\", \"7.0\" = \"reversable_defect\")) |>\n",
    "    #predicted is the HD diagnosis we wish to determine, therefore we turn it into a factor\n",
    "    mutate(predicted = as.factor(predicted)) |>\n",
    "    #Giving the numeric observations their given meanings.\n",
    "    mutate(predicted = recode(predicted, \"0\" = \"no_hd\", \"1\" = \"hd\", \"2\" = \"hd\", \"3\" = \"hd\", \"4\" = \"hd\"))\n",
    "\n",
    "#now that we have all of the data from the dataset labelled in a meaningful way, we select those relevant to our question.\n",
    "heart_data_select <- heart_data |> select(age,restbps, chol, max_heart_rate, fluoro, predicted)\n",
    "  \n",
    "heart_data_select"
   ]
  },
  {
   "cell_type": "code",
   "execution_count": 3,
   "id": "536366a3-dffb-488a-9c1c-1ee6d19cadb0",
   "metadata": {},
   "outputs": [
    {
     "data": {
      "text/html": [
       "<table class=\"dataframe\">\n",
       "<caption>A tibble: 299 × 6</caption>\n",
       "<thead>\n",
       "\t<tr><th scope=col>age</th><th scope=col>restbps</th><th scope=col>chol</th><th scope=col>max_heart_rate</th><th scope=col>fluoro</th><th scope=col>predicted</th></tr>\n",
       "\t<tr><th scope=col>&lt;dbl&gt;</th><th scope=col>&lt;int&gt;</th><th scope=col>&lt;int&gt;</th><th scope=col>&lt;int&gt;</th><th scope=col>&lt;int&gt;</th><th scope=col>&lt;fct&gt;</th></tr>\n",
       "</thead>\n",
       "<tbody>\n",
       "\t<tr><td>63</td><td>145</td><td>233</td><td>150</td><td>0</td><td>no_hd</td></tr>\n",
       "\t<tr><td>67</td><td>160</td><td>286</td><td>108</td><td>3</td><td>hd   </td></tr>\n",
       "\t<tr><td>67</td><td>120</td><td>229</td><td>129</td><td>2</td><td>hd   </td></tr>\n",
       "\t<tr><td>⋮</td><td>⋮</td><td>⋮</td><td>⋮</td><td>⋮</td><td>⋮</td></tr>\n",
       "\t<tr><td>68</td><td>144</td><td>193</td><td>141</td><td>2</td><td>hd</td></tr>\n",
       "\t<tr><td>57</td><td>130</td><td>131</td><td>115</td><td>1</td><td>hd</td></tr>\n",
       "\t<tr><td>57</td><td>130</td><td>236</td><td>174</td><td>1</td><td>hd</td></tr>\n",
       "</tbody>\n",
       "</table>\n"
      ],
      "text/latex": [
       "A tibble: 299 × 6\n",
       "\\begin{tabular}{llllll}\n",
       " age & restbps & chol & max\\_heart\\_rate & fluoro & predicted\\\\\n",
       " <dbl> & <int> & <int> & <int> & <int> & <fct>\\\\\n",
       "\\hline\n",
       "\t 63 & 145 & 233 & 150 & 0 & no\\_hd\\\\\n",
       "\t 67 & 160 & 286 & 108 & 3 & hd   \\\\\n",
       "\t 67 & 120 & 229 & 129 & 2 & hd   \\\\\n",
       "\t ⋮ & ⋮ & ⋮ & ⋮ & ⋮ & ⋮\\\\\n",
       "\t 68 & 144 & 193 & 141 & 2 & hd\\\\\n",
       "\t 57 & 130 & 131 & 115 & 1 & hd\\\\\n",
       "\t 57 & 130 & 236 & 174 & 1 & hd\\\\\n",
       "\\end{tabular}\n"
      ],
      "text/markdown": [
       "\n",
       "A tibble: 299 × 6\n",
       "\n",
       "| age &lt;dbl&gt; | restbps &lt;int&gt; | chol &lt;int&gt; | max_heart_rate &lt;int&gt; | fluoro &lt;int&gt; | predicted &lt;fct&gt; |\n",
       "|---|---|---|---|---|---|\n",
       "| 63 | 145 | 233 | 150 | 0 | no_hd |\n",
       "| 67 | 160 | 286 | 108 | 3 | hd    |\n",
       "| 67 | 120 | 229 | 129 | 2 | hd    |\n",
       "| ⋮ | ⋮ | ⋮ | ⋮ | ⋮ | ⋮ |\n",
       "| 68 | 144 | 193 | 141 | 2 | hd |\n",
       "| 57 | 130 | 131 | 115 | 1 | hd |\n",
       "| 57 | 130 | 236 | 174 | 1 | hd |\n",
       "\n"
      ],
      "text/plain": [
       "    age restbps chol max_heart_rate fluoro predicted\n",
       "1   63  145     233  150            0      no_hd    \n",
       "2   67  160     286  108            3      hd       \n",
       "3   67  120     229  129            2      hd       \n",
       "⋮   ⋮   ⋮       ⋮    ⋮              ⋮      ⋮        \n",
       "297 68  144     193  141            2      hd       \n",
       "298 57  130     131  115            1      hd       \n",
       "299 57  130     236  174            1      hd       "
      ]
     },
     "metadata": {},
     "output_type": "display_data"
    }
   ],
   "source": [
    "heart_data_select <- heart_data_select |>\n",
    "    na.omit()\n",
    "heart_data_select"
   ]
  },
  {
   "cell_type": "code",
   "execution_count": 45,
   "id": "6317e66c-ae69-4fc4-8aff-a49cffb856a1",
   "metadata": {},
   "outputs": [
    {
     "data": {
      "text/html": [
       "<table class=\"dataframe\">\n",
       "<caption>A tibble: 223 × 6</caption>\n",
       "<thead>\n",
       "\t<tr><th scope=col>age</th><th scope=col>restbps</th><th scope=col>chol</th><th scope=col>max_heart_rate</th><th scope=col>fluoro</th><th scope=col>predicted</th></tr>\n",
       "\t<tr><th scope=col>&lt;dbl&gt;</th><th scope=col>&lt;int&gt;</th><th scope=col>&lt;int&gt;</th><th scope=col>&lt;int&gt;</th><th scope=col>&lt;int&gt;</th><th scope=col>&lt;fct&gt;</th></tr>\n",
       "</thead>\n",
       "<tbody>\n",
       "\t<tr><td>67</td><td>120</td><td>229</td><td>129</td><td>2</td><td>hd</td></tr>\n",
       "\t<tr><td>62</td><td>140</td><td>268</td><td>160</td><td>2</td><td>hd</td></tr>\n",
       "\t<tr><td>63</td><td>130</td><td>254</td><td>147</td><td>1</td><td>hd</td></tr>\n",
       "\t<tr><td>⋮</td><td>⋮</td><td>⋮</td><td>⋮</td><td>⋮</td><td>⋮</td></tr>\n",
       "\t<tr><td>56</td><td>120</td><td>240</td><td>169</td><td>0</td><td>no_hd</td></tr>\n",
       "\t<tr><td>55</td><td>132</td><td>342</td><td>166</td><td>0</td><td>no_hd</td></tr>\n",
       "\t<tr><td>41</td><td>120</td><td>157</td><td>182</td><td>0</td><td>no_hd</td></tr>\n",
       "</tbody>\n",
       "</table>\n"
      ],
      "text/latex": [
       "A tibble: 223 × 6\n",
       "\\begin{tabular}{llllll}\n",
       " age & restbps & chol & max\\_heart\\_rate & fluoro & predicted\\\\\n",
       " <dbl> & <int> & <int> & <int> & <int> & <fct>\\\\\n",
       "\\hline\n",
       "\t 67 & 120 & 229 & 129 & 2 & hd\\\\\n",
       "\t 62 & 140 & 268 & 160 & 2 & hd\\\\\n",
       "\t 63 & 130 & 254 & 147 & 1 & hd\\\\\n",
       "\t ⋮ & ⋮ & ⋮ & ⋮ & ⋮ & ⋮\\\\\n",
       "\t 56 & 120 & 240 & 169 & 0 & no\\_hd\\\\\n",
       "\t 55 & 132 & 342 & 166 & 0 & no\\_hd\\\\\n",
       "\t 41 & 120 & 157 & 182 & 0 & no\\_hd\\\\\n",
       "\\end{tabular}\n"
      ],
      "text/markdown": [
       "\n",
       "A tibble: 223 × 6\n",
       "\n",
       "| age &lt;dbl&gt; | restbps &lt;int&gt; | chol &lt;int&gt; | max_heart_rate &lt;int&gt; | fluoro &lt;int&gt; | predicted &lt;fct&gt; |\n",
       "|---|---|---|---|---|---|\n",
       "| 67 | 120 | 229 | 129 | 2 | hd |\n",
       "| 62 | 140 | 268 | 160 | 2 | hd |\n",
       "| 63 | 130 | 254 | 147 | 1 | hd |\n",
       "| ⋮ | ⋮ | ⋮ | ⋮ | ⋮ | ⋮ |\n",
       "| 56 | 120 | 240 | 169 | 0 | no_hd |\n",
       "| 55 | 132 | 342 | 166 | 0 | no_hd |\n",
       "| 41 | 120 | 157 | 182 | 0 | no_hd |\n",
       "\n"
      ],
      "text/plain": [
       "    age restbps chol max_heart_rate fluoro predicted\n",
       "1   67  120     229  129            2      hd       \n",
       "2   62  140     268  160            2      hd       \n",
       "3   63  130     254  147            1      hd       \n",
       "⋮   ⋮   ⋮       ⋮    ⋮              ⋮      ⋮        \n",
       "221 56  120     240  169            0      no_hd    \n",
       "222 55  132     342  166            0      no_hd    \n",
       "223 41  120     157  182            0      no_hd    "
      ]
     },
     "metadata": {},
     "output_type": "display_data"
    }
   ],
   "source": [
    "#creating our training and testing data sets\n",
    "set.seed(2023) \n",
    "heart_split <- initial_split(heart_data_select, prop = 0.75, strata = predicted)\n",
    "heart_train <- training(heart_split)\n",
    "heart_test <- testing(heart_split)\n",
    "\n",
    "heart_train"
   ]
  },
  {
   "cell_type": "code",
   "execution_count": 46,
   "id": "ae22eb54-0cdd-4420-9478-289f0dc8358b",
   "metadata": {},
   "outputs": [],
   "source": [
    "#recipe + engine\n",
    "set.seed(2023)\n",
    "heart_recipe <- heart_train |>\n",
    "    recipe(predicted ~ fluoro + max_heart_rate + chol + restbps + age) |>\n",
    "     step_scale(all_predictors()) |>\n",
    "        step_center(all_predictors())\n",
    "\n",
    "heart_spec <- nearest_neighbor(weight_func = \"rectangular\", neighbors = tune()) |>\n",
    "        set_engine(\"kknn\") |>\n",
    "        set_mode(\"classification\")\n",
    "\n",
    "#cross validation (10 folds)\n",
    "folds <- heart_train |>\n",
    "    vfold_cv(v = 10, strata = predicted) \n",
    "\n",
    "grid_vals <- tibble(neighbors = seq(from = 1, to = 100, by = 3))\n",
    "\n",
    "heart_flow <- workflow() |>\n",
    "    add_recipe(heart_recipe) |>\n",
    "    add_model(heart_spec) |>\n",
    "    tune_grid(resamples = folds, grid = grid_vals) |>\n",
    "    collect_metrics() \n",
    "\n"
   ]
  },
  {
   "cell_type": "code",
   "execution_count": 47,
   "id": "0be56c6c-0206-464e-9b7e-8a2c5ab16146",
   "metadata": {},
   "outputs": [
    {
     "data": {
      "text/html": [
       "<table class=\"dataframe\">\n",
       "<caption>A tibble: 34 × 2</caption>\n",
       "<thead>\n",
       "\t<tr><th scope=col>neighbors</th><th scope=col>mean</th></tr>\n",
       "\t<tr><th scope=col>&lt;dbl&gt;</th><th scope=col>&lt;dbl&gt;</th></tr>\n",
       "</thead>\n",
       "<tbody>\n",
       "\t<tr><td>10</td><td>0.7940711</td></tr>\n",
       "\t<tr><td>19</td><td>0.7851779</td></tr>\n",
       "\t<tr><td>13</td><td>0.7808300</td></tr>\n",
       "\t<tr><td>⋮</td><td>⋮</td></tr>\n",
       "\t<tr><td>100</td><td>0.7177866</td></tr>\n",
       "\t<tr><td> 91</td><td>0.7175889</td></tr>\n",
       "\t<tr><td>  1</td><td>0.6681818</td></tr>\n",
       "</tbody>\n",
       "</table>\n"
      ],
      "text/latex": [
       "A tibble: 34 × 2\n",
       "\\begin{tabular}{ll}\n",
       " neighbors & mean\\\\\n",
       " <dbl> & <dbl>\\\\\n",
       "\\hline\n",
       "\t 10 & 0.7940711\\\\\n",
       "\t 19 & 0.7851779\\\\\n",
       "\t 13 & 0.7808300\\\\\n",
       "\t ⋮ & ⋮\\\\\n",
       "\t 100 & 0.7177866\\\\\n",
       "\t  91 & 0.7175889\\\\\n",
       "\t   1 & 0.6681818\\\\\n",
       "\\end{tabular}\n"
      ],
      "text/markdown": [
       "\n",
       "A tibble: 34 × 2\n",
       "\n",
       "| neighbors &lt;dbl&gt; | mean &lt;dbl&gt; |\n",
       "|---|---|\n",
       "| 10 | 0.7940711 |\n",
       "| 19 | 0.7851779 |\n",
       "| 13 | 0.7808300 |\n",
       "| ⋮ | ⋮ |\n",
       "| 100 | 0.7177866 |\n",
       "|  91 | 0.7175889 |\n",
       "|   1 | 0.6681818 |\n",
       "\n"
      ],
      "text/plain": [
       "   neighbors mean     \n",
       "1  10        0.7940711\n",
       "2  19        0.7851779\n",
       "3  13        0.7808300\n",
       "⋮  ⋮         ⋮        \n",
       "32 100       0.7177866\n",
       "33  91       0.7175889\n",
       "34   1       0.6681818"
      ]
     },
     "metadata": {},
     "output_type": "display_data"
    }
   ],
   "source": [
    "accuracy <- heart_flow |>\n",
    "    filter(.metric == \"accuracy\") |>\n",
    "    select(neighbors, mean) |>\n",
    "    arrange(desc(mean))\n",
    "accuracy"
   ]
  },
  {
   "cell_type": "code",
   "execution_count": 41,
   "id": "737afc8f-d49d-446b-be38-883c22e64bca",
   "metadata": {},
   "outputs": [
    {
     "data": {
      "image/png": "[encoded data removed]",
      "text/plain": [
       "plot without title"
      ]
     },
     "metadata": {
      "image/png": {
       "height": 420,
       "width": 420
      }
     },
     "output_type": "display_data"
    }
   ],
   "source": [
    "accuracy_plot <- accuracy |>\n",
    "    ggplot(aes(x = neighbors, y = mean)) +\n",
    "     geom_line() +\n",
    "    geom_point()\n",
    "accuracy_plot\n"
   ]
  }
 ],
 "metadata": {
  "kernelspec": {
   "display_name": "R",
   "language": "R",
   "name": "ir"
  },
  "language_info": {
   "codemirror_mode": "r",
   "file_extension": ".r",
   "mimetype": "text/x-r-source",
   "name": "R",
   "pygments_lexer": "r",
   "version": "4.1.3"
  }
 },
 "nbformat": 4,
 "nbformat_minor": 5
}
